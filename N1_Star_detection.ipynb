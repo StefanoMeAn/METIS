{
 "cells": [
  {
   "cell_type": "markdown",
   "metadata": {},
   "source": [
    "# **N1. Star detection**"
   ]
  },
  {
   "cell_type": "markdown",
   "metadata": {},
   "source": [
    "Notebook focused on star detection in a Metis FITS image."
   ]
  },
  {
   "cell_type": "markdown",
   "metadata": {},
   "source": [
    "**Load libraries**\n"
   ]
  },
  {
   "cell_type": "code",
   "execution_count": 4,
   "metadata": {},
   "outputs": [],
   "source": [
    "import starfunctions as sf\n",
    "import matplotlib.pyplot as plt\n",
    "import os"
   ]
  },
  {
   "cell_type": "markdown",
   "metadata": {},
   "source": [
    "## 1. Introduction"
   ]
  },
  {
   "cell_type": "markdown",
   "metadata": {},
   "source": [
    "Once all the dataset is downloaded, the next step is to perform star detection. For the first phase, just visible light range images will be used. Then, an algorithm will be used for retrieve the stars location given."
   ]
  },
  {
   "cell_type": "markdown",
   "metadata": {},
   "source": [
    "### 1.1 Pipeline for star detection\n",
    "As the main object is to detect objects in the images, first we need to extract all the objects that are stars. In order to do this, an algorithm was develop by **Paolo Chioetto**, and the repository can be found in the following link:\n",
    "\n",
    "    https://github.com/chioettop/metis_star_utils\n",
    "\n",
    "**Metis_star_utils**\n",
    "\n",
    "Simulates Metis's Field-of-view using the *SO SPICE KERNEL*. Then it takes as input three parameters:\n",
    "- **Timestamp**: date and time from where it is retrieved the real-time coordinates of metis.\n",
    "- **Bandwidth**: bandwith used for detecting stars (Visible-light or UltraViolet)\n",
    "- **StarMagnitude**: maximum star apparent magnitude able to detect.\n",
    "- Another important parameters are used such as: sun radius, id (solar orbiter), metis fov.\n",
    "\n",
    "With this information, timestamp is converted into **ephimeris time** and these angles from the metis are retrieved:\n",
    "1. Right Ascencion (RA): Angular distance eastward along the celestial equator (longitude).\n",
    "2. Declination (DEC): Angular distance from north to south (latitude).\n",
    "3. Roll (ROLL) : Rotation of the instrument along the principal axis (boresight).\n",
    "\n",
    "Once the angles are extracted, using the SIMBAD (Set of Identifications, Measurements, and Bibliography for Astronomical Dataset) Catalogue, it is queried in order to search for stars up to the desired StarMagnitude. Stars located in the inner metis FOV are discarded as well as stars in the outer FOV. Later an image will be displayed for better understanding.\n",
    "\n",
    "Finally, it returns WCS (world coordinate system) from the previously computed angles and convert stars position into images pixels."
   ]
  },
  {
   "cell_type": "markdown",
   "metadata": {},
   "source": [
    "### 1.2 Implemented algorithm for star detection\n",
    "The mentioned pipeline is implemented in the following function:"
   ]
  },
  {
   "cell_type": "code",
   "execution_count": 5,
   "metadata": {},
   "outputs": [],
   "source": [
    "def stars_detector(kernel, path, time, UV=False):\n",
    "    \"\"\"\n",
    "    Retrieve a dataframe with stars on a given time coordinate according to Metis.\n",
    "\n",
    "    Parameters:\n",
    "        kernel (str): SPICE kernel.\n",
    "        path(str): path to SPICE kernels.\n",
    "        time (str): time in SCS.\n",
    "        UV (bool): specified bandwidth. If false, visible-light bandwidth is chosen.\n",
    "\n",
    "    Returns:\n",
    "        catalog_stars (table): astropy table with detected stars.\n",
    "        -wcs.wcs.cdelt[0] (float): pixel scale.\n",
    "        wcs.wcs.crpix (tuple): center of image.\n",
    "    \"\"\"\n",
    "\n",
    "    try:\n",
    "        # Load kernel.\n",
    "        spice = sf.load_kernel(kernel, path)\n",
    "\n",
    "        # Convert time to ephemeris time.\n",
    "        et = sf.scs2et(time, path)\n",
    "\n",
    "        # Calculate boresight orientation.\n",
    "        ra, dec, roll = sf.boresight(et, path, UV)\n",
    "        wcs = sf.wcs_from_boresight(ra, dec, roll, UV)\n",
    "\n",
    "        # Query stars from Simbad catalog.\n",
    "        catalog_stars = sf.simbad_search(ra, dec, max_mag=6)\n",
    "        if catalog_stars is None or len(catalog_stars) == 0:\n",
    "            return None\n",
    "\n",
    "        # Transform star coordinates to sensor coordinates.\n",
    "        x, y = wcs.wcs_world2pix(catalog_stars[\"ra\"], catalog_stars[\"dec\"], 0)\n",
    "\n",
    "        # Add sensor coordinates to the DataFrame.\n",
    "        catalog_stars[\"xsensor\"] = x\n",
    "        catalog_stars[\"ysensor\"] = y\n",
    "\n",
    "        # Filter stars outside the sensor bounds.\n",
    "        in_bounds = (x >= 0) & (y >= 0) & (x <= wcs.pixel_shape[1]) & (y <= wcs.pixel_shape[0])\n",
    "        catalog_stars = catalog_stars[in_bounds]\n",
    "        if len(catalog_stars) == 0:\n",
    "            return None\n",
    "\n",
    "        return catalog_stars, -wcs.wcs.cdelt[0], wcs.wcs.crpix\n",
    "\n",
    "    except Exception as e:\n",
    "        print(f\"Error: {e}\")\n",
    "        return None\n",
    "\n",
    "    finally:\n",
    "        sf.unload_kernel(kernel, path)"
   ]
  },
  {
   "cell_type": "markdown",
   "metadata": {},
   "source": [
    "Where the functions can be found in the **starfunctions.py**"
   ]
  },
  {
   "cell_type": "markdown",
   "metadata": {},
   "source": [
    "## 2. Star detection"
   ]
  },
  {
   "cell_type": "markdown",
   "metadata": {},
   "source": [
    "Now, let's make a simple example using the L0 FITS image from the last notebook and search for the possible stars."
   ]
  },
  {
   "cell_type": "code",
   "execution_count": null,
   "metadata": {},
   "outputs": [],
   "source": [
    "# Input parameters.\n",
    "KERNEL_PATH = \"./solar-orbiter/kernels/mk/\"\n",
    "KERNEL_NAME = \"solo_ANC_soc-flown-mk.tm\"\n"
   ]
  }
 ],
 "metadata": {
  "kernelspec": {
   "display_name": "gpu_py",
   "language": "python",
   "name": "python3"
  },
  "language_info": {
   "codemirror_mode": {
    "name": "ipython",
    "version": 3
   },
   "file_extension": ".py",
   "mimetype": "text/x-python",
   "name": "python",
   "nbconvert_exporter": "python",
   "pygments_lexer": "ipython3",
   "version": "3.10.13"
  }
 },
 "nbformat": 4,
 "nbformat_minor": 2
}
